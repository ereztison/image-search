{
 "cells": [
  {
   "cell_type": "code",
   "execution_count": 1,
   "metadata": {},
   "outputs": [],
   "source": [
    "import pandas as pd\n",
    "import numpy as np\n",
    "from pathlib import Path\n",
    "import json\n",
    "import urllib.request\n",
    "\n",
    "import tqdm\n",
    "\n",
    "data_dir = Path(\"../data\").absolute()\n",
    "images_dir = Path(\"../images\").absolute()\n",
    "\n",
    "SAMPLE_SIZE = 2000"
   ]
  },
  {
   "cell_type": "code",
   "execution_count": 2,
   "metadata": {},
   "outputs": [
    {
     "data": {
      "text/plain": "             asin                                              title  \\\n3339   B07J3BWTDZ  Under Armour Women's Tech V-Neck Twist Short-S...   \n93493  B08QMZJQVR  AOHITE Women's Knit Turtleneck Dress Balloon S...   \n68420  B087Q4Y2RV  Heavy Duty Large Rolling Garment Rack Stainles...   \n499    B07VQY3QFF  New Balance Men's 608 V5 Casual Comfort Cross ...   \n90496  B091TYK8GQ  BEAUTEX Fleece Throw Blanket for Couch Sofa or...   \n69917  B08CHNMXJ2  Washable Kids Makeup Girl Toys - Non Toxic Rea...   \n38592  B07XKYRYT5  DWVO Radiator Compatible with Ford F-150 F-200...   \n2096   B07RL5SKDW  New Balance Women's Fresh Foam Roav V1 Sneaker...   \n80688  B092M3XXQT  SheIn Women's Cloak Long Sleeve Mini Cape Dres...   \n44084  B08MWXWCZZ  Speedo Women's Swimsuit One Piece Zip Front Lo...   \n\n                                           primary_image  \n3339   https://m.media-amazon.com/images/I/414fCX0YIb...  \n93493  https://m.media-amazon.com/images/I/51g8YUci3t...  \n68420  https://m.media-amazon.com/images/I/41Ahst8wn0...  \n499    https://m.media-amazon.com/images/I/418wOvAI4y...  \n90496  https://m.media-amazon.com/images/I/51vSSiTBmg...  \n69917  https://m.media-amazon.com/images/I/61nAYRECd0...  \n38592  https://m.media-amazon.com/images/I/51BOgmVbLM...  \n2096   https://m.media-amazon.com/images/I/31EG99piKL...  \n80688  https://m.media-amazon.com/images/I/41eNrBzFel...  \n44084  https://m.media-amazon.com/images/I/41GPlW64oB...  ",
      "text/html": "<div>\n<style scoped>\n    .dataframe tbody tr th:only-of-type {\n        vertical-align: middle;\n    }\n\n    .dataframe tbody tr th {\n        vertical-align: top;\n    }\n\n    .dataframe thead th {\n        text-align: right;\n    }\n</style>\n<table border=\"1\" class=\"dataframe\">\n  <thead>\n    <tr style=\"text-align: right;\">\n      <th></th>\n      <th>asin</th>\n      <th>title</th>\n      <th>primary_image</th>\n    </tr>\n  </thead>\n  <tbody>\n    <tr>\n      <th>3339</th>\n      <td>B07J3BWTDZ</td>\n      <td>Under Armour Women's Tech V-Neck Twist Short-S...</td>\n      <td>https://m.media-amazon.com/images/I/414fCX0YIb...</td>\n    </tr>\n    <tr>\n      <th>93493</th>\n      <td>B08QMZJQVR</td>\n      <td>AOHITE Women's Knit Turtleneck Dress Balloon S...</td>\n      <td>https://m.media-amazon.com/images/I/51g8YUci3t...</td>\n    </tr>\n    <tr>\n      <th>68420</th>\n      <td>B087Q4Y2RV</td>\n      <td>Heavy Duty Large Rolling Garment Rack Stainles...</td>\n      <td>https://m.media-amazon.com/images/I/41Ahst8wn0...</td>\n    </tr>\n    <tr>\n      <th>499</th>\n      <td>B07VQY3QFF</td>\n      <td>New Balance Men's 608 V5 Casual Comfort Cross ...</td>\n      <td>https://m.media-amazon.com/images/I/418wOvAI4y...</td>\n    </tr>\n    <tr>\n      <th>90496</th>\n      <td>B091TYK8GQ</td>\n      <td>BEAUTEX Fleece Throw Blanket for Couch Sofa or...</td>\n      <td>https://m.media-amazon.com/images/I/51vSSiTBmg...</td>\n    </tr>\n    <tr>\n      <th>69917</th>\n      <td>B08CHNMXJ2</td>\n      <td>Washable Kids Makeup Girl Toys - Non Toxic Rea...</td>\n      <td>https://m.media-amazon.com/images/I/61nAYRECd0...</td>\n    </tr>\n    <tr>\n      <th>38592</th>\n      <td>B07XKYRYT5</td>\n      <td>DWVO Radiator Compatible with Ford F-150 F-200...</td>\n      <td>https://m.media-amazon.com/images/I/51BOgmVbLM...</td>\n    </tr>\n    <tr>\n      <th>2096</th>\n      <td>B07RL5SKDW</td>\n      <td>New Balance Women's Fresh Foam Roav V1 Sneaker...</td>\n      <td>https://m.media-amazon.com/images/I/31EG99piKL...</td>\n    </tr>\n    <tr>\n      <th>80688</th>\n      <td>B092M3XXQT</td>\n      <td>SheIn Women's Cloak Long Sleeve Mini Cape Dres...</td>\n      <td>https://m.media-amazon.com/images/I/41eNrBzFel...</td>\n    </tr>\n    <tr>\n      <th>44084</th>\n      <td>B08MWXWCZZ</td>\n      <td>Speedo Women's Swimsuit One Piece Zip Front Lo...</td>\n      <td>https://m.media-amazon.com/images/I/41GPlW64oB...</td>\n    </tr>\n  </tbody>\n</table>\n</div>"
     },
     "execution_count": 2,
     "metadata": {},
     "output_type": "execute_result"
    }
   ],
   "source": [
    "df = pd.read_parquet(data_dir / \"product_images.parquet\")\n",
    "df.sample(10)"
   ]
  },
  {
   "cell_type": "markdown",
   "metadata": {},
   "source": [
    "## (One-time) sample ids and download images from Amazon dataset"
   ]
  },
  {
   "cell_type": "code",
   "execution_count": null,
   "metadata": {},
   "outputs": [],
   "source": [
    "# sample some records\n",
    "sampled_df = df.sample(SAMPLE_SIZE)\n",
    "\n",
    "# store the sampled ids\n",
    "clip_ids = list(sampled_df[\"asin\"])\n",
    "with (data_dir / \"original_clip_ids.json\").open(\"w\") as f:\n",
    "    json.dump(clip_ids, f)\n"
   ]
  },
  {
   "cell_type": "code",
   "execution_count": null,
   "metadata": {},
   "outputs": [],
   "source": [
    "# download the sampled records' images\n",
    "image_urls = list(sampled_df[\"primary_image\"])\n",
    "for img_url in tqdm.tqdm_notebook(image_urls):\n",
    "    local_file_name = img_url.rsplit(\"/\")[-1]\n",
    "    urllib.request.urlretrieve(img_url, images_dir / local_file_name)\n"
   ]
  },
  {
   "cell_type": "markdown",
   "metadata": {},
   "source": [
    "## Generate embeddings for the sampled images"
   ]
  },
  {
   "cell_type": "code",
   "execution_count": null,
   "metadata": {
    "pycharm": {
     "is_executing": true
    }
   },
   "outputs": [],
   "source": [
    "# A NOTE FOR THE REVIEWER:\n",
    "#   embedding 2000 images and 2000 texts requires tens of GBs, assuming the goal is not to solve this performance problem,\n",
    "#   I just worked around it by embedding the texts and images in two different runs of the notebook (while resetting it) and saving to two different files,\n",
    "#   controlled by the EMBEDDING_TYPE const\n",
    "\n",
    "import sys, os\n",
    "import torch\n",
    "import clip\n",
    "import enum\n",
    "\n",
    "class EmbeddingType(enum.Enum):\n",
    "    EMB_TEXT = \"txt\"\n",
    "    EMB_IMAGES = \"img\"\n",
    "\n",
    "EMBEDDING_TYPE = EmbeddingType.EMB_TEXT\n",
    "# EMBEDDING_TYPE = EmbeddingType.EMB_IMAGES\n",
    "\n",
    "# load local module\n",
    "module_path = os.path.abspath(os.path.join('..'))\n",
    "if module_path not in sys.path:\n",
    "    sys.path.append(module_path)\n",
    "from src import embedding\n",
    "\n",
    "# read the ids sampled from the dataset\n",
    "with (data_dir/\"original_clip_ids.json\").open('r') as f:\n",
    "    embedding_ids = json.load(f)\n",
    "\n",
    "device = \"cuda\" if torch.cuda.is_available() else \"cpu\"\n",
    "model, preprocess = clip.load('ViT-B/32', device)\n",
    "\n",
    "# generate embeddings for text and images\n",
    "count = 0\n",
    "clip_emb = np.zeros(shape=(SAMPLE_SIZE, 512))\n",
    "verified_embedding_ids = []\n",
    "for sample_id in tqdm.tqdm_notebook(embedding_ids[:SAMPLE_SIZE]):\n",
    "    sample_record = df[df[\"asin\"] == sample_id].iloc[0]\n",
    "    title = sample_record[\"title\"]\n",
    "    img_url = sample_record[\"primary_image\"]\n",
    "    img_file_name = images_dir / img_url.rsplit(\"/\")[-1]\n",
    "\n",
    "    # NOTE FOR REVIEWER: not all images can be downloaded from Amazon, hence only the verified ones are embedded\n",
    "    if os.path.exists(img_file_name):\n",
    "        verified_embedding_ids.append(sample_id)\n",
    "        if EMBEDDING_TYPE == EmbeddingType.EMB_TEXT:\n",
    "            clip_emb[count] = embedding.embed_text(model, device, title)\n",
    "        elif EMBEDDING_TYPE == EmbeddingType.EMB_IMAGES:\n",
    "            clip_emb[count] = embedding.embed_image(model, preprocess, device, img_file_name)\n",
    "        count += 1\n",
    "\n",
    "# save the embeddings\n",
    "np.save(data_dir / f\"clip_{EMBEDDING_TYPE.value}_emb.npy\", clip_emb)\n",
    "\n",
    "# store the actually embedded sampled ids\n",
    "print(f\"there are {len(verified_embedding_ids)} embeddings\")\n",
    "with (data_dir / \"clip_ids.json\").open(\"w\") as f:\n",
    "    json.dump(verified_embedding_ids, f)\n"
   ]
  },
  {
   "cell_type": "markdown",
   "source": [
    "## Show some embedded products names"
   ],
   "metadata": {
    "collapsed": false
   }
  },
  {
   "cell_type": "code",
   "execution_count": 5,
   "outputs": [
    {
     "data": {
      "text/plain": "             asin                                              title  \\\n89867  B098D7QN6C  BGment Grey Bedroom Blackout Curtains 84 Inch ...   \n76076  B09DSS93YX  JW PEI Women's Gabbi Ruched Hobo Handbag (Cora...   \n24734  B08BND9BFK  New Balance Baby Fresh Foam Roav V1 Bungee Run...   \n78308  B09DPR11NS  iPhone 12 13 Fast Charger [Apple MFi Certified...   \n46595  B01IP89LVW  Rokinon Xeen 135mm T2.2 Professional Cine Lens...   \n55408  B08ZXDLHJW  WAOWAO Baby Gate Extra Wide Pressure Mounted W...   \n59648  B073VC7R4B  Sidefeel Women Off The Shoulder Ruffles Party ...   \n41871  B08XN3Q447  NUVISION LIGHTING Pair H4 9003 Brightest LED H...   \n19235  B079FYSSMF  Disney Junior Doc McStuffins Pet Rescue 8.5 In...   \n67364  B094CL27QS  Yoga Mat Double-Sided Non Slip, 72'' x 32'' x ...   \n\n                                           primary_image  \n89867  https://m.media-amazon.com/images/I/51k2DZiBqi...  \n76076  https://m.media-amazon.com/images/I/31yvbnLl8u...  \n24734  https://m.media-amazon.com/images/I/411LOIJTir...  \n78308  https://m.media-amazon.com/images/I/31hAsFWRyS...  \n46595  https://m.media-amazon.com/images/I/51G7mwK1Fe...  \n55408  https://m.media-amazon.com/images/I/51eCGy2cPF...  \n59648  https://m.media-amazon.com/images/I/41yiBC-laq...  \n41871  https://m.media-amazon.com/images/I/513GsFITPP...  \n19235  https://m.media-amazon.com/images/I/41qeBvzieX...  \n67364  https://m.media-amazon.com/images/I/41MgCYYRV5...  ",
      "text/html": "<div>\n<style scoped>\n    .dataframe tbody tr th:only-of-type {\n        vertical-align: middle;\n    }\n\n    .dataframe tbody tr th {\n        vertical-align: top;\n    }\n\n    .dataframe thead th {\n        text-align: right;\n    }\n</style>\n<table border=\"1\" class=\"dataframe\">\n  <thead>\n    <tr style=\"text-align: right;\">\n      <th></th>\n      <th>asin</th>\n      <th>title</th>\n      <th>primary_image</th>\n    </tr>\n  </thead>\n  <tbody>\n    <tr>\n      <th>89867</th>\n      <td>B098D7QN6C</td>\n      <td>BGment Grey Bedroom Blackout Curtains 84 Inch ...</td>\n      <td>https://m.media-amazon.com/images/I/51k2DZiBqi...</td>\n    </tr>\n    <tr>\n      <th>76076</th>\n      <td>B09DSS93YX</td>\n      <td>JW PEI Women's Gabbi Ruched Hobo Handbag (Cora...</td>\n      <td>https://m.media-amazon.com/images/I/31yvbnLl8u...</td>\n    </tr>\n    <tr>\n      <th>24734</th>\n      <td>B08BND9BFK</td>\n      <td>New Balance Baby Fresh Foam Roav V1 Bungee Run...</td>\n      <td>https://m.media-amazon.com/images/I/411LOIJTir...</td>\n    </tr>\n    <tr>\n      <th>78308</th>\n      <td>B09DPR11NS</td>\n      <td>iPhone 12 13 Fast Charger [Apple MFi Certified...</td>\n      <td>https://m.media-amazon.com/images/I/31hAsFWRyS...</td>\n    </tr>\n    <tr>\n      <th>46595</th>\n      <td>B01IP89LVW</td>\n      <td>Rokinon Xeen 135mm T2.2 Professional Cine Lens...</td>\n      <td>https://m.media-amazon.com/images/I/51G7mwK1Fe...</td>\n    </tr>\n    <tr>\n      <th>55408</th>\n      <td>B08ZXDLHJW</td>\n      <td>WAOWAO Baby Gate Extra Wide Pressure Mounted W...</td>\n      <td>https://m.media-amazon.com/images/I/51eCGy2cPF...</td>\n    </tr>\n    <tr>\n      <th>59648</th>\n      <td>B073VC7R4B</td>\n      <td>Sidefeel Women Off The Shoulder Ruffles Party ...</td>\n      <td>https://m.media-amazon.com/images/I/41yiBC-laq...</td>\n    </tr>\n    <tr>\n      <th>41871</th>\n      <td>B08XN3Q447</td>\n      <td>NUVISION LIGHTING Pair H4 9003 Brightest LED H...</td>\n      <td>https://m.media-amazon.com/images/I/513GsFITPP...</td>\n    </tr>\n    <tr>\n      <th>19235</th>\n      <td>B079FYSSMF</td>\n      <td>Disney Junior Doc McStuffins Pet Rescue 8.5 In...</td>\n      <td>https://m.media-amazon.com/images/I/41qeBvzieX...</td>\n    </tr>\n    <tr>\n      <th>67364</th>\n      <td>B094CL27QS</td>\n      <td>Yoga Mat Double-Sided Non Slip, 72'' x 32'' x ...</td>\n      <td>https://m.media-amazon.com/images/I/41MgCYYRV5...</td>\n    </tr>\n  </tbody>\n</table>\n</div>"
     },
     "metadata": {},
     "output_type": "display_data"
    }
   ],
   "source": [
    "# read the ids sampled from the dataset\n",
    "with (data_dir/\"clip_ids.json\").open('r') as f:\n",
    "    verified_embedding_ids = json.load(f)\n",
    "\n",
    "# show the embedded titles\n",
    "display(df[df[\"asin\"].isin(verified_embedding_ids)].sample(10))"
   ],
   "metadata": {
    "collapsed": false
   }
  },
  {
   "cell_type": "code",
   "execution_count": null,
   "metadata": {},
   "outputs": [],
   "source": []
  },
  {
   "cell_type": "code",
   "execution_count": null,
   "outputs": [],
   "source": [],
   "metadata": {
    "collapsed": false
   }
  }
 ],
 "metadata": {
  "kernelspec": {
   "display_name": "Python 3 (ipykernel)",
   "language": "python",
   "name": "python3"
  },
  "language_info": {
   "codemirror_mode": {
    "name": "ipython",
    "version": 3
   },
   "file_extension": ".py",
   "mimetype": "text/x-python",
   "name": "python",
   "nbconvert_exporter": "python",
   "pygments_lexer": "ipython3",
   "version": "3.8.13"
  }
 },
 "nbformat": 4,
 "nbformat_minor": 1
}
